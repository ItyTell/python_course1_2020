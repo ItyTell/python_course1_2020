{
 "cells": [
  {
   "cell_type": "markdown",
   "metadata": {},
   "source": [
    "### 5 Graph types"
   ]
  },
  {
   "cell_type": "code",
   "execution_count": 1,
   "metadata": {},
   "outputs": [],
   "source": [
    "import networkx as nx\n",
    "import matplotlib.pyplot as plt\n",
    "import matplotlib.patches as ptch\n",
    "from graphs_for_slides import *"
   ]
  },
  {
   "cell_type": "code",
   "execution_count": 2,
   "metadata": {},
   "outputs": [
    {
     "name": "stdout",
     "output_type": "stream",
     "text": [
      "3\n"
     ]
    },
    {
     "data": {
      "text/plain": [
       "EdgeView([(1, 2), (2, 3), (3, 4)])"
      ]
     },
     "execution_count": 2,
     "metadata": {},
     "output_type": "execute_result"
    },
    {
     "data": {
      "image/png": "[encoded data removed]",
      "text/plain": [
       "<Figure size 432x288 with 1 Axes>"
      ]
     },
     "metadata": {},
     "output_type": "display_data"
    }
   ],
   "source": [
    "g = nx.Graph()\n",
    "g.add_edges_from([(1,2),(2,1),(2,3),(4,3)])\n",
    "nx.draw(g, pos=line_n(5), with_labels=True, font_weight='bold', font_color='white')\n",
    "print(g.number_of_edges())\n",
    "g.edges"
   ]
  },
  {
   "cell_type": "code",
   "execution_count": 3,
   "metadata": {},
   "outputs": [
    {
     "name": "stdout",
     "output_type": "stream",
     "text": [
      "4\n"
     ]
    },
    {
     "data": {
      "text/plain": [
       "OutEdgeView([(1, 2), (2, 1), (2, 3), (4, 3)])"
      ]
     },
     "execution_count": 3,
     "metadata": {},
     "output_type": "execute_result"
    },
    {
     "data": {
      "image/png": "[encoded data removed]",
      "text/plain": [
       "<Figure size 432x288 with 1 Axes>"
      ]
     },
     "metadata": {},
     "output_type": "display_data"
    }
   ],
   "source": [
    "g = nx.DiGraph()\n",
    "g.add_edges_from([(1,2),(2,1), (2,3),(4,3)])\n",
    "nx.draw(g, pos=line_n(5), with_labels=True, font_weight='bold', font_color='white', \n",
    "        arrowsize=20, arrowstyle=ptch.ArrowStyle.CurveB(head_length=0.6, head_width=0.3))\n",
    "print(g.number_of_edges())\n",
    "g.edges"
   ]
  },
  {
   "cell_type": "code",
   "execution_count": 4,
   "metadata": {},
   "outputs": [
    {
     "data": {
      "image/png": "[encoded data removed]",
      "text/plain": [
       "<Figure size 432x288 with 1 Axes>"
      ]
     },
     "metadata": {},
     "output_type": "display_data"
    }
   ],
   "source": [
    "g = nx.DiGraph()\n",
    "set1=[(2,3),(4,3)]\n",
    "set2=[(1,2),(2,1)]\n",
    "g.add_edges_from(set1)\n",
    "g.add_edges_from(set2)\n",
    "edges ={'edge_color': 'black', 'width':2.5, 'arrowsize':20, \n",
    "       'arrowstyle':ptch.ArrowStyle.CurveB(head_length=0.6, head_width=0.3)}\n",
    "nodes = {'edgecolors': 'black', 'node_color': 'white'}\n",
    "labels= {'font_color': 'black'}\n",
    "\n",
    "plt.axis('off')\n",
    "nx.draw_networkx_nodes(g, pos=line_n(5), **nodes)\n",
    "nx.draw_networkx_labels(g, pos=line_n(5), **labels)\n",
    "nx.draw_networkx_edges(g, pos=line_n(5), edgelist=set1, **edges)\n",
    "nx.draw_networkx_edges(g, pos=line_n(5), edgelist=set2, connectionstyle=\"arc3,rad=0.25\",**edges);"
   ]
  },
  {
   "cell_type": "code",
   "execution_count": 5,
   "metadata": {},
   "outputs": [
    {
     "data": {
      "text/plain": [
       "MultiEdgeView([(1, 2, 0), (1, 2, 1), (2, 3, 0), (3, 4, 0)])"
      ]
     },
     "execution_count": 5,
     "metadata": {},
     "output_type": "execute_result"
    },
    {
     "data": {
      "image/png": "[encoded data removed]",
      "text/plain": [
       "<Figure size 432x288 with 1 Axes>"
      ]
     },
     "metadata": {},
     "output_type": "display_data"
    }
   ],
   "source": [
    "g = nx.MultiGraph()\n",
    "g.add_edges_from([(1,2), (2,1), (2,3), (4,3)])\n",
    "nx.draw(g, line_n(5))\n",
    "g.edges"
   ]
  },
  {
   "cell_type": "code",
   "execution_count": 6,
   "metadata": {},
   "outputs": [
    {
     "data": {
      "text/plain": [
       "MultiEdgeView([(1, 2, 0), (1, 2, 1), (1, 2, 2), (2, 3, 0), (3, 4, 0)])"
      ]
     },
     "execution_count": 6,
     "metadata": {},
     "output_type": "execute_result"
    }
   ],
   "source": [
    "g.add_edge(2,1)\n",
    "g.edges"
   ]
  },
  {
   "cell_type": "code",
   "execution_count": 7,
   "metadata": {},
   "outputs": [
    {
     "data": {
      "text/plain": [
       "AtlasView({0: {}, 1: {}, 2: {}})"
      ]
     },
     "execution_count": 7,
     "metadata": {},
     "output_type": "execute_result"
    }
   ],
   "source": [
    "g[1][2]"
   ]
  },
  {
   "cell_type": "code",
   "execution_count": 8,
   "metadata": {},
   "outputs": [
    {
     "data": {
      "text/plain": [
       "OutMultiEdgeView([(1, 2, 0), (2, 1, 0), (2, 1, 1), (2, 3, 0), (4, 3, 0)])"
      ]
     },
     "execution_count": 8,
     "metadata": {},
     "output_type": "execute_result"
    }
   ],
   "source": [
    "g = nx.MultiDiGraph()\n",
    "g.add_edges_from([(1,2),(2,1),(2,1), (2,3),(4,3)])\n",
    "g.edges"
   ]
  },
  {
   "cell_type": "code",
   "execution_count": 9,
   "metadata": {},
   "outputs": [
    {
     "data": {
      "text/plain": [
       "2"
      ]
     },
     "execution_count": 9,
     "metadata": {},
     "output_type": "execute_result"
    }
   ],
   "source": [
    "g.number_of_edges(2,1)"
   ]
  },
  {
   "cell_type": "code",
   "execution_count": 10,
   "metadata": {},
   "outputs": [
    {
     "data": {
      "text/plain": [
       "EdgeDataView([(1, 2, {'weight': 3, 'color': 'red'}), (1, 3, {'color': 'green'}), (2, 3, {'weight': 1, 'color': 'blue'})])"
      ]
     },
     "execution_count": 10,
     "metadata": {},
     "output_type": "execute_result"
    }
   ],
   "source": [
    "g = nx.Graph()\n",
    "g.add_edge(1, 2, weight=3, color='red')\n",
    "g.add_edge(3, 2, weight=1, color='blue')\n",
    "g.add_edge(3, 1, color='green')\n",
    "g.edges.data()"
   ]
  },
  {
   "cell_type": "code",
   "execution_count": 11,
   "metadata": {},
   "outputs": [
    {
     "data": {
      "text/plain": [
       "EdgeDataView([(1, 2, {'weight': 5, 'color': 'red'}), (1, 3, {'color': 'green'}), (2, 3, {'weight': 1, 'color': 'blue'})])"
      ]
     },
     "execution_count": 11,
     "metadata": {},
     "output_type": "execute_result"
    }
   ],
   "source": [
    "g[1][2]['weight'] = 5\n",
    "g.edges.data()"
   ]
  },
  {
   "cell_type": "code",
   "execution_count": 12,
   "metadata": {},
   "outputs": [
    {
     "data": {
      "text/plain": [
       "['red', 'green', 'blue']"
      ]
     },
     "execution_count": 12,
     "metadata": {},
     "output_type": "execute_result"
    }
   ],
   "source": [
    "colors=[color for a,b,color in g.edges.data(data='color', default='black')]\n",
    "colors"
   ]
  },
  {
   "cell_type": "code",
   "execution_count": 13,
   "metadata": {},
   "outputs": [
    {
     "data": {
      "image/png": "[encoded data removed]",
      "text/plain": [
       "<Figure size 432x288 with 1 Axes>"
      ]
     },
     "metadata": {},
     "output_type": "display_data"
    }
   ],
   "source": [
    "nx.draw_shell(g, with_labels=True, font_color='white', font_weight='bold',\n",
    "              node_color=['red','green','blue'], \n",
    "              edge_color=colors)"
   ]
  }
 ],
 "metadata": {
  "kernelspec": {
   "display_name": "Python 3",
   "language": "python",
   "name": "python3"
  },
  "language_info": {
   "codemirror_mode": {
    "name": "ipython",
    "version": 3
   },
   "file_extension": ".py",
   "mimetype": "text/x-python",
   "name": "python",
   "nbconvert_exporter": "python",
   "pygments_lexer": "ipython3",
   "version": "3.9.1"
  }
 },
 "nbformat": 4,
 "nbformat_minor": 2
}
