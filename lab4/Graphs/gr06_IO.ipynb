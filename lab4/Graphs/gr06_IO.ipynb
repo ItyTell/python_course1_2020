{
 "cells": [
  {
   "cell_type": "markdown",
   "metadata": {},
   "source": [
    "### 6 Input and output"
   ]
  },
  {
   "cell_type": "code",
   "execution_count": 1,
   "metadata": {},
   "outputs": [],
   "source": [
    "import networkx as nx\n",
    "import matplotlib.pyplot as plt\n",
    "import pathlib\n",
    "root = pathlib.Path(r'D:\\Courses\\Programming\\Prog2020\\Samples\\Graphs\\texts')\n",
    "def printfile(path):\n",
    "    with open(path) as f:\n",
    "        while (s := f.read(64)):\n",
    "            print(s, end='')\n",
    "    print()"
   ]
  },
  {
   "cell_type": "code",
   "execution_count": 2,
   "metadata": {},
   "outputs": [
    {
     "data": {
      "text/plain": [
       "EdgeView([(1, 2), (2, 3), (3, 4)])"
      ]
     },
     "execution_count": 2,
     "metadata": {},
     "output_type": "execute_result"
    }
   ],
   "source": [
    "g1 = nx.Graph()\n",
    "g1.add_edges_from([(1,2),(2,1),(2,3),(4,3)])\n",
    "g1.edges"
   ]
  },
  {
   "cell_type": "code",
   "execution_count": 3,
   "metadata": {},
   "outputs": [
    {
     "name": "stdout",
     "output_type": "stream",
     "text": [
      "#c:\\program files\\python39\\lib\\site-packages\\ipykernel_launcher.py -f C:\\Users\\Tatiana\\AppData\\Roaming\\jupyter\\runtime\\kernel-4bb01e68-7485-4fe4-b81a-c89169db7b42.json\n",
      "# GMT Mon Apr 19 18:03:12 2021\n",
      "# \n",
      "1 2\n",
      "2 3\n",
      "3 4\n",
      "4\n",
      "\n"
     ]
    },
    {
     "data": {
      "text/plain": [
       "EdgeView([(1, 2), (2, 3), (3, 4)])"
      ]
     },
     "execution_count": 3,
     "metadata": {},
     "output_type": "execute_result"
    }
   ],
   "source": [
    "fname = root.joinpath('g1.txt')\n",
    "nx.write_adjlist(g1,fname)\n",
    "printfile(fname)\n",
    "\n",
    "g1_1 = nx.read_adjlist(fname, nodetype=int)\n",
    "g1_1.edges"
   ]
  },
  {
   "cell_type": "code",
   "execution_count": 4,
   "metadata": {},
   "outputs": [
    {
     "name": "stdout",
     "output_type": "stream",
     "text": [
      "1 2\n",
      "2 3\n",
      "3 4\n",
      "4\n"
     ]
    }
   ],
   "source": [
    "tmp = nx.generate_adjlist(g1)\n",
    "for el in tmp:print(el)"
   ]
  },
  {
   "cell_type": "code",
   "execution_count": 5,
   "metadata": {},
   "outputs": [
    {
     "data": {
      "text/plain": [
       "OutEdgeView([(1, 2), (2, 1), (2, 3), (4, 3)])"
      ]
     },
     "execution_count": 5,
     "metadata": {},
     "output_type": "execute_result"
    }
   ],
   "source": [
    "g2 = nx.DiGraph()\n",
    "g2.add_edges_from([(1,2),(2,1),(2,3),(4,3)])\n",
    "g2.edges"
   ]
  },
  {
   "cell_type": "code",
   "execution_count": 6,
   "metadata": {},
   "outputs": [
    {
     "name": "stdout",
     "output_type": "stream",
     "text": [
      "#c:\\program files\\python39\\lib\\site-packages\\ipykernel_launcher.py -f C:\\Users\\Tatiana\\AppData\\Roaming\\jupyter\\runtime\\kernel-4bb01e68-7485-4fe4-b81a-c89169db7b42.json\n",
      "# GMT Mon Apr 19 18:03:13 2021\n",
      "# \n",
      "1 2\n",
      "2 1 3\n",
      "3\n",
      "4 3\n",
      "\n"
     ]
    },
    {
     "data": {
      "text/plain": [
       "OutEdgeView([(1, 2), (2, 1), (2, 3), (4, 3)])"
      ]
     },
     "execution_count": 6,
     "metadata": {},
     "output_type": "execute_result"
    }
   ],
   "source": [
    "fname = root.joinpath('g2.txt')\n",
    "nx.write_adjlist(g2, fname)\n",
    "printfile(fname)\n",
    "\n",
    "g2_1 = nx.read_adjlist(fname,nodetype=int, create_using=nx.DiGraph)\n",
    "g2_1.edges"
   ]
  },
  {
   "cell_type": "code",
   "execution_count": 7,
   "metadata": {},
   "outputs": [
    {
     "name": "stdout",
     "output_type": "stream",
     "text": [
      "#c:\\program files\\python39\\lib\\site-packages\\ipykernel_launcher.py -f C:\\Users\\Tatiana\\AppData\\Roaming\\jupyter\\runtime\\kernel-4bb01e68-7485-4fe4-b81a-c89169db7b42.json\n",
      "# GMT Mon Apr 19 18:03:13 2021\n",
      "# \n",
      "1 1\n",
      "2 {}\n",
      "2 2\n",
      "1 {}\n",
      "3 {}\n",
      "3 0\n",
      "4 1\n",
      "3 {}\n",
      "\n"
     ]
    }
   ],
   "source": [
    "fname = root.joinpath('g2_2.txt')\n",
    "nx.write_multiline_adjlist(g2, fname)\n",
    "printfile(fname)"
   ]
  },
  {
   "cell_type": "code",
   "execution_count": 8,
   "metadata": {},
   "outputs": [
    {
     "data": {
      "text/plain": [
       "OutEdgeView([(1, 2), (2, 1), (2, 3), (4, 3)])"
      ]
     },
     "execution_count": 8,
     "metadata": {},
     "output_type": "execute_result"
    }
   ],
   "source": [
    "g2_2 = nx.read_multiline_adjlist(fname,nodetype=int, create_using=nx.DiGraph)\n",
    "g2_2.edges"
   ]
  },
  {
   "cell_type": "code",
   "execution_count": 9,
   "metadata": {},
   "outputs": [
    {
     "data": {
      "text/plain": [
       "MultiEdgeView([(1, 2, 0), (1, 2, 1), (1, 2, 2), (2, 3, 0), (3, 4, 0)])"
      ]
     },
     "execution_count": 9,
     "metadata": {},
     "output_type": "execute_result"
    }
   ],
   "source": [
    "g3 = nx.MultiGraph()\n",
    "g3.add_edges_from([(1,2), (2,1), (2,1), (2,3), (4,3)])\n",
    "g3.edges"
   ]
  },
  {
   "cell_type": "code",
   "execution_count": 10,
   "metadata": {},
   "outputs": [
    {
     "name": "stdout",
     "output_type": "stream",
     "text": [
      "#c:\\program files\\python39\\lib\\site-packages\\ipykernel_launcher.py -f C:\\Users\\Tatiana\\AppData\\Roaming\\jupyter\\runtime\\kernel-4bb01e68-7485-4fe4-b81a-c89169db7b42.json\n",
      "# GMT Mon Apr 19 18:03:13 2021\n",
      "# \n",
      "1 2 2 2\n",
      "2 3\n",
      "3 4\n",
      "4\n",
      "\n"
     ]
    },
    {
     "data": {
      "text/plain": [
       "MultiEdgeView([(1, 2, 0), (1, 2, 1), (1, 2, 2), (2, 3, 0), (3, 4, 0)])"
      ]
     },
     "execution_count": 10,
     "metadata": {},
     "output_type": "execute_result"
    }
   ],
   "source": [
    "fname = root.joinpath('g3.txt')\n",
    "nx.write_adjlist(g3, fname)\n",
    "printfile(fname)\n",
    "\n",
    "g3_1 = nx.read_adjlist(fname, nodetype=int, create_using=nx.MultiGraph)\n",
    "g3_1.edges"
   ]
  },
  {
   "cell_type": "code",
   "execution_count": 11,
   "metadata": {},
   "outputs": [
    {
     "data": {
      "text/plain": [
       "EdgeDataView([(1, 2, {'weight': 3, 'color': 'red'}), (1, 3, {'color': 'green'}), (2, 3, {'weight': 1, 'color': 'blue'})])"
      ]
     },
     "execution_count": 11,
     "metadata": {},
     "output_type": "execute_result"
    }
   ],
   "source": [
    "g5 = nx.Graph()\n",
    "g5.add_edge(1, 2, weight=3, color='red')\n",
    "g5.add_edge(3, 2, weight=1, color='blue')\n",
    "g5.add_edge(3, 1, color='green')\n",
    "g5.edges.data()"
   ]
  },
  {
   "cell_type": "code",
   "execution_count": 12,
   "metadata": {},
   "outputs": [
    {
     "name": "stdout",
     "output_type": "stream",
     "text": [
      "#c:\\program files\\python39\\lib\\site-packages\\ipykernel_launcher.py -f C:\\Users\\Tatiana\\AppData\\Roaming\\jupyter\\runtime\\kernel-4bb01e68-7485-4fe4-b81a-c89169db7b42.json\n",
      "# GMT Mon Apr 19 18:03:14 2021\n",
      "# \n",
      "1 2\n",
      "2 {'weight': 3, 'color': 'red'}\n",
      "3 {'color': 'green'}\n",
      "2 1\n",
      "3 {'weight': 1, 'color': 'blue'}\n",
      "3 0\n",
      "\n"
     ]
    },
    {
     "data": {
      "text/plain": [
       "EdgeDataView([(1, 2, {'weight': 3, 'color': 'red'}), (1, 3, {'color': 'green'}), (2, 3, {'weight': 1, 'color': 'blue'})])"
      ]
     },
     "execution_count": 12,
     "metadata": {},
     "output_type": "execute_result"
    }
   ],
   "source": [
    "fname = root.joinpath('g5.txt')\n",
    "nx.write_multiline_adjlist(g5, fname)\n",
    "printfile(fname)\n",
    "\n",
    "g5_1 = nx.read_multiline_adjlist(fname, nodetype=int)\n",
    "g5_1.edges.data()"
   ]
  },
  {
   "cell_type": "code",
   "execution_count": 13,
   "metadata": {},
   "outputs": [
    {
     "name": "stdout",
     "output_type": "stream",
     "text": [
      "1 2 {'weight': 3, 'color': 'red'}\n",
      "1 3 {'color': 'green'}\n",
      "2 3 {'weight': 1, 'color': 'blue'}\n",
      "\n"
     ]
    },
    {
     "data": {
      "text/plain": [
       "EdgeDataView([(1, 2, {'weight': 3, 'color': 'red'}), (1, 3, {'color': 'green'}), (2, 3, {'weight': 1, 'color': 'blue'})])"
      ]
     },
     "execution_count": 13,
     "metadata": {},
     "output_type": "execute_result"
    }
   ],
   "source": [
    "fname = root.joinpath('g5_1.txt')\n",
    "nx.write_edgelist(g5,fname)\n",
    "printfile(fname)\n",
    "\n",
    "g5_1 = nx.read_edgelist(fname, nodetype=int)\n",
    "g5_1.edges.data()"
   ]
  },
  {
   "cell_type": "code",
   "execution_count": 14,
   "metadata": {},
   "outputs": [
    {
     "name": "stdout",
     "output_type": "stream",
     "text": [
      "1 2\n",
      "1 3\n",
      "2 3\n",
      "\n"
     ]
    },
    {
     "data": {
      "text/plain": [
       "EdgeDataView([(1, 2, {}), (1, 3, {}), (2, 3, {})])"
      ]
     },
     "execution_count": 14,
     "metadata": {},
     "output_type": "execute_result"
    }
   ],
   "source": [
    "fname = root.joinpath('g5_2.txt')\n",
    "nx.write_edgelist(g5, fname, data=False)\n",
    "printfile(fname)\n",
    "\n",
    "g5_2 = nx.read_edgelist(fname, nodetype=int)\n",
    "g5_2.edges.data()"
   ]
  },
  {
   "cell_type": "code",
   "execution_count": 15,
   "metadata": {},
   "outputs": [
    {
     "name": "stdout",
     "output_type": "stream",
     "text": [
      "1 2 red\n",
      "1 3 green\n",
      "2 3 blue\n",
      "\n"
     ]
    },
    {
     "data": {
      "text/plain": [
       "EdgeDataView([(1, 2, {'color': 'red'}), (1, 3, {'color': 'green'}), (2, 3, {'color': 'blue'})])"
      ]
     },
     "execution_count": 15,
     "metadata": {},
     "output_type": "execute_result"
    }
   ],
   "source": [
    "fname = root.joinpath('g5_3.txt')\n",
    "nx.write_edgelist(g5, fname, data=['color'])\n",
    "printfile(fname)\n",
    "\n",
    "g5_3 = nx.read_edgelist(fname, nodetype=int, data=[('color',str)])\n",
    "g5_3.edges.data()"
   ]
  },
  {
   "cell_type": "code",
   "execution_count": 16,
   "metadata": {},
   "outputs": [
    {
     "name": "stdout",
     "output_type": "stream",
     "text": [
      "1 2 3 red\n",
      "1 3\n",
      "2 3 1 blue\n",
      "\n"
     ]
    },
    {
     "data": {
      "text/plain": [
       "EdgeDataView([(1, 2, {'weight': 3.0, 'color': 'red'}), (1, 3, {}), (2, 3, {'weight': 1.0, 'color': 'blue'})])"
      ]
     },
     "execution_count": 16,
     "metadata": {},
     "output_type": "execute_result"
    }
   ],
   "source": [
    "fname = root.joinpath('g5_4.txt')\n",
    "nx.write_edgelist(g5, fname, data=['weight', 'color'])\n",
    "printfile(fname)\n",
    "\n",
    "g5_4 = nx.read_edgelist(fname, nodetype=int, data=[('weight',float),('color',str)])\n",
    "g5_4.edges.data()"
   ]
  }
 ],
 "metadata": {
  "kernelspec": {
   "display_name": "Python 3",
   "language": "python",
   "name": "python3"
  },
  "language_info": {
   "codemirror_mode": {
    "name": "ipython",
    "version": 3
   },
   "file_extension": ".py",
   "mimetype": "text/x-python",
   "name": "python",
   "nbconvert_exporter": "python",
   "pygments_lexer": "ipython3",
   "version": "3.9.1"
  }
 },
 "nbformat": 4,
 "nbformat_minor": 2
}
